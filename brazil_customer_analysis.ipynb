{
 "cells": [
  {
   "cell_type": "code",
   "execution_count": 246,
   "metadata": {
    "collapsed": false
   },
   "outputs": [],
   "source": [
    "#!/usr/bin/env python2\n",
    "# -*- coding: utf-8 -*-\n",
    "\"\"\"\n",
    "Created on Thu Dec  6 15:30:09 2018\n",
    "\n",
    "@author: bukowskio\n",
    "\"\"\"\n",
    "\n",
    "import pandas as pd\n",
    "import numpy as np\n",
    "import matplotlib.pyplot as plt\n",
    "import statsmodels.api as sm\n",
    "import datetime\n",
    "from sklearn.cluster import KMeans\n",
    "from sklearn.linear_model import Lasso\n",
    "from sklearn.ensemble import RandomForestRegressor, ExtraTreesRegressor, GradientBoostingRegressor\n",
    "from sklearn.model_selection import train_test_split\n",
    "from sklearn.neural_network import MLPRegressor, BernoulliRBM\n",
    "from sklearn.svm import SVR\n",
    "from sklearn.model_selection import GridSearchCV\n",
    "from sklearn.preprocessing import StandardScaler, MinMaxScaler\n",
    "from sklearn.feature_selection import SelectFromModel\n",
    "from sklearn.metrics import mean_squared_error\n",
    "from keras.models import Sequential\n",
    "from keras.layers import Dense, Activation, Dropout, Input, LSTM, SimpleRNN\n",
    "from keras.utils import to_categorical\n",
    "from keras.optimizers import SGD, Adam\n",
    "from keras.models import Model\n",
    "from keras import regularizers\n",
    "from keras import backend as K\n",
    "import warnings\n",
    "warnings.filterwarnings('ignore')"
   ]
  },
  {
   "cell_type": "code",
   "execution_count": 282,
   "metadata": {
    "collapsed": false
   },
   "outputs": [],
   "source": [
    "df=pd.read_csv('~/Oskar/customer-analysis/olist_customers_dataset.csv')"
   ]
  },
  {
   "cell_type": "code",
   "execution_count": 283,
   "metadata": {
    "collapsed": true
   },
   "outputs": [],
   "source": [
    "df1=pd.read_csv('~/Oskar/customer-analysis/olist_orders_dataset.csv')"
   ]
  },
  {
   "cell_type": "code",
   "execution_count": 284,
   "metadata": {
    "collapsed": true
   },
   "outputs": [],
   "source": [
    "df4=pd.read_csv('~/Oskar/customer-analysis/olist_order_items_dataset.csv')"
   ]
  },
  {
   "cell_type": "code",
   "execution_count": 285,
   "metadata": {
    "collapsed": false
   },
   "outputs": [
    {
     "data": {
      "text/plain": [
       "(99441, 5)"
      ]
     },
     "execution_count": 285,
     "metadata": {},
     "output_type": "execute_result"
    }
   ],
   "source": [
    "df.shape"
   ]
  },
  {
   "cell_type": "code",
   "execution_count": 304,
   "metadata": {
    "collapsed": false
   },
   "outputs": [
    {
     "data": {
      "text/plain": [
       "(99441, 8)"
      ]
     },
     "execution_count": 304,
     "metadata": {},
     "output_type": "execute_result"
    }
   ],
   "source": [
    "df1.shape"
   ]
  },
  {
   "cell_type": "code",
   "execution_count": 305,
   "metadata": {
    "collapsed": false
   },
   "outputs": [
    {
     "data": {
      "text/plain": [
       "(112650, 9)"
      ]
     },
     "execution_count": 305,
     "metadata": {},
     "output_type": "execute_result"
    }
   ],
   "source": [
    "df4.shape"
   ]
  },
  {
   "cell_type": "code",
   "execution_count": 306,
   "metadata": {
    "collapsed": false
   },
   "outputs": [
    {
     "data": {
      "text/plain": [
       "98666"
      ]
     },
     "execution_count": 306,
     "metadata": {},
     "output_type": "execute_result"
    }
   ],
   "source": [
    "len(df4['order_id'].unique())"
   ]
  },
  {
   "cell_type": "code",
   "execution_count": null,
   "metadata": {
    "collapsed": true
   },
   "outputs": [],
   "source": []
  },
  {
   "cell_type": "code",
   "execution_count": 286,
   "metadata": {
    "collapsed": false
   },
   "outputs": [
    {
     "data": {
      "text/plain": [
       "Index([u'customer_id', u'customer_unique_id', u'customer_zip_code_prefix',\n",
       "       u'customer_city', u'customer_state'],\n",
       "      dtype='object')"
      ]
     },
     "execution_count": 286,
     "metadata": {},
     "output_type": "execute_result"
    }
   ],
   "source": [
    "df.columns"
   ]
  },
  {
   "cell_type": "code",
   "execution_count": 287,
   "metadata": {
    "collapsed": false
   },
   "outputs": [
    {
     "data": {
      "text/html": [
       "<div>\n",
       "<table border=\"1\" class=\"dataframe\">\n",
       "  <thead>\n",
       "    <tr style=\"text-align: right;\">\n",
       "      <th></th>\n",
       "      <th>customer_id</th>\n",
       "      <th>customer_unique_id</th>\n",
       "    </tr>\n",
       "  </thead>\n",
       "  <tbody>\n",
       "    <tr>\n",
       "      <th>64012</th>\n",
       "      <td>fadbb3709178fc513abc1b2670aa1ad2</td>\n",
       "      <td>0000366f3b9a7992bf8c76cfdf3221e2</td>\n",
       "    </tr>\n",
       "    <tr>\n",
       "      <th>24570</th>\n",
       "      <td>4cb282e167ae9234755102258dd52ee8</td>\n",
       "      <td>0000b849f77a49e4a4ce2b2a4ca5be3f</td>\n",
       "    </tr>\n",
       "    <tr>\n",
       "      <th>40832</th>\n",
       "      <td>9b3932a6253894a02c1df9d19004239f</td>\n",
       "      <td>0000f46a3911fa3c0805444483337064</td>\n",
       "    </tr>\n",
       "    <tr>\n",
       "      <th>57118</th>\n",
       "      <td>914991f0c02ef0843c0e7010c819d642</td>\n",
       "      <td>0000f6ccb0745a6a4b88665a16c9f078</td>\n",
       "    </tr>\n",
       "    <tr>\n",
       "      <th>81150</th>\n",
       "      <td>47227568b10f5f58a524a75507e6992c</td>\n",
       "      <td>0004aac84e0df4da2b147fca70cf8255</td>\n",
       "    </tr>\n",
       "    <tr>\n",
       "      <th>11102</th>\n",
       "      <td>4a913a170c26e3c8052ed0202849b5a8</td>\n",
       "      <td>0004bd2a26a76fe21f786e4fbd80607f</td>\n",
       "    </tr>\n",
       "    <tr>\n",
       "      <th>29513</th>\n",
       "      <td>d2509c13692836fc0449e88cf9eb4858</td>\n",
       "      <td>00050ab1314c0e55a6ca13cf7181fecf</td>\n",
       "    </tr>\n",
       "    <tr>\n",
       "      <th>63263</th>\n",
       "      <td>a81ebb9b32f102298c0c89635b4b3154</td>\n",
       "      <td>00053a61a98854899e70ed204dd4bafe</td>\n",
       "    </tr>\n",
       "    <tr>\n",
       "      <th>58742</th>\n",
       "      <td>3b37fb626fdf46cd99d37ec62afa88ff</td>\n",
       "      <td>0005e1862207bf6ccc02e4228effd9a0</td>\n",
       "    </tr>\n",
       "    <tr>\n",
       "      <th>11996</th>\n",
       "      <td>c59e8ff99836e90d8b457d4122dc34e9</td>\n",
       "      <td>0005ef4cd20d2893f0d9fbd94d3c0d97</td>\n",
       "    </tr>\n",
       "    <tr>\n",
       "      <th>63482</th>\n",
       "      <td>2f29573c8cac5a7be11c5b649078f944</td>\n",
       "      <td>0006fdc98a402fceb4eb0ee528f6a8d4</td>\n",
       "    </tr>\n",
       "    <tr>\n",
       "      <th>90113</th>\n",
       "      <td>9dec2d47e95677b616efe366f8bf9fb8</td>\n",
       "      <td>00082cbe03e478190aadbea78542e933</td>\n",
       "    </tr>\n",
       "    <tr>\n",
       "      <th>19720</th>\n",
       "      <td>40f0183f7439212e8ce53dc6103dfb2f</td>\n",
       "      <td>00090324bbad0e9342388303bb71ba0a</td>\n",
       "    </tr>\n",
       "    <tr>\n",
       "      <th>48865</th>\n",
       "      <td>64eb9409c29c87a0a90ee1e08ce05065</td>\n",
       "      <td>000949456b182f53c18b68d6babc79c1</td>\n",
       "    </tr>\n",
       "    <tr>\n",
       "      <th>6940</th>\n",
       "      <td>be22f11baf346059cbe6556ef9c69070</td>\n",
       "      <td>000a5ad9c4601d2bbdd9ed765d5213b3</td>\n",
       "    </tr>\n",
       "    <tr>\n",
       "      <th>3112</th>\n",
       "      <td>e36917a47d5bf39bd3f38bcafb3d438f</td>\n",
       "      <td>000bfa1d2f1a41876493be685390d6d3</td>\n",
       "    </tr>\n",
       "    <tr>\n",
       "      <th>335</th>\n",
       "      <td>0e114b02a45c9876080f3a9a19f51c16</td>\n",
       "      <td>000c8bdb58a29e7115cfc257230fb21b</td>\n",
       "    </tr>\n",
       "    <tr>\n",
       "      <th>46403</th>\n",
       "      <td>4948d9d11ebcd4d241a0b291c15d5779</td>\n",
       "      <td>000d460961d6dbfa3ec6c9f5805769e1</td>\n",
       "    </tr>\n",
       "    <tr>\n",
       "      <th>11737</th>\n",
       "      <td>455f2e2988eaf87d7e2ba33b0a57969f</td>\n",
       "      <td>000de6019bb59f34c099a907c151d855</td>\n",
       "    </tr>\n",
       "    <tr>\n",
       "      <th>60282</th>\n",
       "      <td>8866a052aebe7f7cee97bace65b379b2</td>\n",
       "      <td>000e309254ab1fc5ba99dd469d36bdb4</td>\n",
       "    </tr>\n",
       "    <tr>\n",
       "      <th>213</th>\n",
       "      <td>30e8a49cee668a4435b2f91cc77c9d15</td>\n",
       "      <td>000ec5bff359e1c0ad76a81a45cb598f</td>\n",
       "    </tr>\n",
       "    <tr>\n",
       "      <th>35017</th>\n",
       "      <td>dd542dd7b8a8a90fed3b4f6b85ec45e8</td>\n",
       "      <td>000ed48ceeb6f4bf8ad021a10a3c7b43</td>\n",
       "    </tr>\n",
       "    <tr>\n",
       "      <th>2404</th>\n",
       "      <td>4b95f958af9c866353ae1108d8ebd023</td>\n",
       "      <td>000fbf0473c10fc1ab6f8d2d286ce20c</td>\n",
       "    </tr>\n",
       "    <tr>\n",
       "      <th>20947</th>\n",
       "      <td>3529b35e86160baf0aa22a9770420250</td>\n",
       "      <td>0010a452c6d13139e50b57f19f52e04e</td>\n",
       "    </tr>\n",
       "    <tr>\n",
       "      <th>78920</th>\n",
       "      <td>bb923a84f897c7ffc3d03eb905f7eddf</td>\n",
       "      <td>0010fb34b966d44409382af9e8fd5b77</td>\n",
       "    </tr>\n",
       "    <tr>\n",
       "      <th>55968</th>\n",
       "      <td>5247e5c7e9037e74343f13bbd8800a6a</td>\n",
       "      <td>001147e649a7b1afd577e873841632dd</td>\n",
       "    </tr>\n",
       "    <tr>\n",
       "      <th>38003</th>\n",
       "      <td>064064dd94c43013786fc1e1a14d6374</td>\n",
       "      <td>00115fc7123b5310cf6d3a3aa932699e</td>\n",
       "    </tr>\n",
       "    <tr>\n",
       "      <th>31760</th>\n",
       "      <td>728e136fca2819b62d610743ae2904b8</td>\n",
       "      <td>0011805441c0d1b68b48002f1d005526</td>\n",
       "    </tr>\n",
       "    <tr>\n",
       "      <th>15232</th>\n",
       "      <td>b821d548247d9c319bd595260efe677e</td>\n",
       "      <td>0011857aff0e5871ce5eb429f21cdaf5</td>\n",
       "    </tr>\n",
       "    <tr>\n",
       "      <th>80209</th>\n",
       "      <td>5b331b0a1d63a261e9072be800107cfd</td>\n",
       "      <td>0011c98589159d6149979563c504cb21</td>\n",
       "    </tr>\n",
       "    <tr>\n",
       "      <th>...</th>\n",
       "      <td>...</td>\n",
       "      <td>...</td>\n",
       "    </tr>\n",
       "    <tr>\n",
       "      <th>39446</th>\n",
       "      <td>eac5c7df93a1df2256f7b1ef0e5b9e71</td>\n",
       "      <td>ffe9e41fbd14db4a7361347c56af5447</td>\n",
       "    </tr>\n",
       "    <tr>\n",
       "      <th>10776</th>\n",
       "      <td>1a5dca881b4fc9ed776930b3dc9ccfe0</td>\n",
       "      <td>ffeb904468642a1ce663a322629801cb</td>\n",
       "    </tr>\n",
       "    <tr>\n",
       "      <th>22327</th>\n",
       "      <td>3619684d733b95a9860ca496206a6ab0</td>\n",
       "      <td>ffebb6424578e7bb153322da9d65634f</td>\n",
       "    </tr>\n",
       "    <tr>\n",
       "      <th>60597</th>\n",
       "      <td>e374debe4e35018b4d20de4337ea74ae</td>\n",
       "      <td>ffec10ad4229ba46818560e1c8b40a68</td>\n",
       "    </tr>\n",
       "    <tr>\n",
       "      <th>81915</th>\n",
       "      <td>da108bc410acffb1400cf9caea65a332</td>\n",
       "      <td>ffec490ab531184a483efe2eedd68908</td>\n",
       "    </tr>\n",
       "    <tr>\n",
       "      <th>18121</th>\n",
       "      <td>8b7ab6f3bd953bf7839099fffdbfb086</td>\n",
       "      <td>ffecceca389973ef16660d58696f281e</td>\n",
       "    </tr>\n",
       "    <tr>\n",
       "      <th>77830</th>\n",
       "      <td>22a4b8a7912abc2b02051dca85e02564</td>\n",
       "      <td>ffeddf8aa7cdecf403e77b2e9a99e2ea</td>\n",
       "    </tr>\n",
       "    <tr>\n",
       "      <th>9126</th>\n",
       "      <td>9f9233b73bc4030c589a0429b3423766</td>\n",
       "      <td>ffedff0547d809c90c05c2691c51f9b7</td>\n",
       "    </tr>\n",
       "    <tr>\n",
       "      <th>32811</th>\n",
       "      <td>fd3129fbbc0767919a5d42cf03525ec2</td>\n",
       "      <td>ffee94d548cef05b146d825a7648dab4</td>\n",
       "    </tr>\n",
       "    <tr>\n",
       "      <th>50028</th>\n",
       "      <td>df72728563c0a348eed0e450e9e8c2b7</td>\n",
       "      <td>ffeefd086fc667aaf6595c8fe3d22d54</td>\n",
       "    </tr>\n",
       "    <tr>\n",
       "      <th>32280</th>\n",
       "      <td>a90468e2c3a73422673411b52aaa8426</td>\n",
       "      <td>ffef0ffa736c7b3d9af741611089729b</td>\n",
       "    </tr>\n",
       "    <tr>\n",
       "      <th>80782</th>\n",
       "      <td>188cdfdd194fa16a5da42a7fac3fcd55</td>\n",
       "      <td>fff1afc79f6b5db1e235a4a6c30ceda7</td>\n",
       "    </tr>\n",
       "    <tr>\n",
       "      <th>24796</th>\n",
       "      <td>ed369d5d0e1850f096e478def9027961</td>\n",
       "      <td>fff1bdd5c5e37ca79dd74deeb91aa5b6</td>\n",
       "    </tr>\n",
       "    <tr>\n",
       "      <th>81680</th>\n",
       "      <td>bf4f764d039ad2c41e7f94962cfc022e</td>\n",
       "      <td>fff22793223fe80c97a8fd02ac5c6295</td>\n",
       "    </tr>\n",
       "    <tr>\n",
       "      <th>79326</th>\n",
       "      <td>731ab8b73356171649cb8ed97ee1c99f</td>\n",
       "      <td>fff2ae16b99c6f3c785f0e052f2a9cfb</td>\n",
       "    </tr>\n",
       "    <tr>\n",
       "      <th>57564</th>\n",
       "      <td>c445b065520c54b05cc0f634e502da29</td>\n",
       "      <td>fff3a9369e4b7102fab406a334a678c3</td>\n",
       "    </tr>\n",
       "    <tr>\n",
       "      <th>15792</th>\n",
       "      <td>05af51fbd839dd9f05c0e07f16e971d4</td>\n",
       "      <td>fff3e1d7bc75f11dc7670619b2e61840</td>\n",
       "    </tr>\n",
       "    <tr>\n",
       "      <th>50526</th>\n",
       "      <td>ed583a2a1eaf0dedc33af816153e8b8c</td>\n",
       "      <td>fff5eb4918b2bf4b2da476788d42051c</td>\n",
       "    </tr>\n",
       "    <tr>\n",
       "      <th>31613</th>\n",
       "      <td>5e3e1f4586f475c893bb9b464e0f198d</td>\n",
       "      <td>fff699c184bcc967d62fa2c6171765f7</td>\n",
       "    </tr>\n",
       "    <tr>\n",
       "      <th>51666</th>\n",
       "      <td>7aa03a53e8c6489f3854470b6ebe9537</td>\n",
       "      <td>fff7219c86179ca6441b8f37823ba3d3</td>\n",
       "    </tr>\n",
       "    <tr>\n",
       "      <th>3797</th>\n",
       "      <td>cb2db09134b625c16f34f9240653c8b6</td>\n",
       "      <td>fff96bc586f78b1f070da28c4977e810</td>\n",
       "    </tr>\n",
       "    <tr>\n",
       "      <th>24733</th>\n",
       "      <td>6ab61c668f2cc0bf964afc5666bf4cc3</td>\n",
       "      <td>fffa431dd3fcdefea4b1777d114144f2</td>\n",
       "    </tr>\n",
       "    <tr>\n",
       "      <th>8619</th>\n",
       "      <td>d0592ede120d52303cfb9044a5ff1910</td>\n",
       "      <td>fffb09418989a0dbff854a28163e47c6</td>\n",
       "    </tr>\n",
       "    <tr>\n",
       "      <th>641</th>\n",
       "      <td>ed421f2bf6c0ea955e4ac8a5fe646b94</td>\n",
       "      <td>fffbf87b7a1a6fa8b03f081c5f51a201</td>\n",
       "    </tr>\n",
       "    <tr>\n",
       "      <th>8264</th>\n",
       "      <td>a1746e37af49aa5afd6b195baed286eb</td>\n",
       "      <td>fffcc512b7dfecaffd80f13614af1d16</td>\n",
       "    </tr>\n",
       "    <tr>\n",
       "      <th>89147</th>\n",
       "      <td>74be082247cd677a147d83ee670e9d53</td>\n",
       "      <td>fffcf5a5ff07b0908bd4e2dbc735a684</td>\n",
       "    </tr>\n",
       "    <tr>\n",
       "      <th>9810</th>\n",
       "      <td>0ecf8e0a08148af0bf313184f167670a</td>\n",
       "      <td>fffea47cd6d3cc0a88bd621562a9d061</td>\n",
       "    </tr>\n",
       "    <tr>\n",
       "      <th>69017</th>\n",
       "      <td>27f584b0f1dc4e610065c240f68b6be0</td>\n",
       "      <td>ffff371b4d645b6ecea244b27531430a</td>\n",
       "    </tr>\n",
       "    <tr>\n",
       "      <th>94891</th>\n",
       "      <td>832a3b0254347d409512ae92eaf154a6</td>\n",
       "      <td>ffff5962728ec6157033ef9805bacc48</td>\n",
       "    </tr>\n",
       "    <tr>\n",
       "      <th>83624</th>\n",
       "      <td>70bc4d9cf2bbeea3f7b09798370f5884</td>\n",
       "      <td>ffffd2657e2aad2907e67c3e9daecbeb</td>\n",
       "    </tr>\n",
       "  </tbody>\n",
       "</table>\n",
       "<p>99441 rows × 2 columns</p>\n",
       "</div>"
      ],
      "text/plain": [
       "                            customer_id                customer_unique_id\n",
       "64012  fadbb3709178fc513abc1b2670aa1ad2  0000366f3b9a7992bf8c76cfdf3221e2\n",
       "24570  4cb282e167ae9234755102258dd52ee8  0000b849f77a49e4a4ce2b2a4ca5be3f\n",
       "40832  9b3932a6253894a02c1df9d19004239f  0000f46a3911fa3c0805444483337064\n",
       "57118  914991f0c02ef0843c0e7010c819d642  0000f6ccb0745a6a4b88665a16c9f078\n",
       "81150  47227568b10f5f58a524a75507e6992c  0004aac84e0df4da2b147fca70cf8255\n",
       "11102  4a913a170c26e3c8052ed0202849b5a8  0004bd2a26a76fe21f786e4fbd80607f\n",
       "29513  d2509c13692836fc0449e88cf9eb4858  00050ab1314c0e55a6ca13cf7181fecf\n",
       "63263  a81ebb9b32f102298c0c89635b4b3154  00053a61a98854899e70ed204dd4bafe\n",
       "58742  3b37fb626fdf46cd99d37ec62afa88ff  0005e1862207bf6ccc02e4228effd9a0\n",
       "11996  c59e8ff99836e90d8b457d4122dc34e9  0005ef4cd20d2893f0d9fbd94d3c0d97\n",
       "63482  2f29573c8cac5a7be11c5b649078f944  0006fdc98a402fceb4eb0ee528f6a8d4\n",
       "90113  9dec2d47e95677b616efe366f8bf9fb8  00082cbe03e478190aadbea78542e933\n",
       "19720  40f0183f7439212e8ce53dc6103dfb2f  00090324bbad0e9342388303bb71ba0a\n",
       "48865  64eb9409c29c87a0a90ee1e08ce05065  000949456b182f53c18b68d6babc79c1\n",
       "6940   be22f11baf346059cbe6556ef9c69070  000a5ad9c4601d2bbdd9ed765d5213b3\n",
       "3112   e36917a47d5bf39bd3f38bcafb3d438f  000bfa1d2f1a41876493be685390d6d3\n",
       "335    0e114b02a45c9876080f3a9a19f51c16  000c8bdb58a29e7115cfc257230fb21b\n",
       "46403  4948d9d11ebcd4d241a0b291c15d5779  000d460961d6dbfa3ec6c9f5805769e1\n",
       "11737  455f2e2988eaf87d7e2ba33b0a57969f  000de6019bb59f34c099a907c151d855\n",
       "60282  8866a052aebe7f7cee97bace65b379b2  000e309254ab1fc5ba99dd469d36bdb4\n",
       "213    30e8a49cee668a4435b2f91cc77c9d15  000ec5bff359e1c0ad76a81a45cb598f\n",
       "35017  dd542dd7b8a8a90fed3b4f6b85ec45e8  000ed48ceeb6f4bf8ad021a10a3c7b43\n",
       "2404   4b95f958af9c866353ae1108d8ebd023  000fbf0473c10fc1ab6f8d2d286ce20c\n",
       "20947  3529b35e86160baf0aa22a9770420250  0010a452c6d13139e50b57f19f52e04e\n",
       "78920  bb923a84f897c7ffc3d03eb905f7eddf  0010fb34b966d44409382af9e8fd5b77\n",
       "55968  5247e5c7e9037e74343f13bbd8800a6a  001147e649a7b1afd577e873841632dd\n",
       "38003  064064dd94c43013786fc1e1a14d6374  00115fc7123b5310cf6d3a3aa932699e\n",
       "31760  728e136fca2819b62d610743ae2904b8  0011805441c0d1b68b48002f1d005526\n",
       "15232  b821d548247d9c319bd595260efe677e  0011857aff0e5871ce5eb429f21cdaf5\n",
       "80209  5b331b0a1d63a261e9072be800107cfd  0011c98589159d6149979563c504cb21\n",
       "...                                 ...                               ...\n",
       "39446  eac5c7df93a1df2256f7b1ef0e5b9e71  ffe9e41fbd14db4a7361347c56af5447\n",
       "10776  1a5dca881b4fc9ed776930b3dc9ccfe0  ffeb904468642a1ce663a322629801cb\n",
       "22327  3619684d733b95a9860ca496206a6ab0  ffebb6424578e7bb153322da9d65634f\n",
       "60597  e374debe4e35018b4d20de4337ea74ae  ffec10ad4229ba46818560e1c8b40a68\n",
       "81915  da108bc410acffb1400cf9caea65a332  ffec490ab531184a483efe2eedd68908\n",
       "18121  8b7ab6f3bd953bf7839099fffdbfb086  ffecceca389973ef16660d58696f281e\n",
       "77830  22a4b8a7912abc2b02051dca85e02564  ffeddf8aa7cdecf403e77b2e9a99e2ea\n",
       "9126   9f9233b73bc4030c589a0429b3423766  ffedff0547d809c90c05c2691c51f9b7\n",
       "32811  fd3129fbbc0767919a5d42cf03525ec2  ffee94d548cef05b146d825a7648dab4\n",
       "50028  df72728563c0a348eed0e450e9e8c2b7  ffeefd086fc667aaf6595c8fe3d22d54\n",
       "32280  a90468e2c3a73422673411b52aaa8426  ffef0ffa736c7b3d9af741611089729b\n",
       "80782  188cdfdd194fa16a5da42a7fac3fcd55  fff1afc79f6b5db1e235a4a6c30ceda7\n",
       "24796  ed369d5d0e1850f096e478def9027961  fff1bdd5c5e37ca79dd74deeb91aa5b6\n",
       "81680  bf4f764d039ad2c41e7f94962cfc022e  fff22793223fe80c97a8fd02ac5c6295\n",
       "79326  731ab8b73356171649cb8ed97ee1c99f  fff2ae16b99c6f3c785f0e052f2a9cfb\n",
       "57564  c445b065520c54b05cc0f634e502da29  fff3a9369e4b7102fab406a334a678c3\n",
       "15792  05af51fbd839dd9f05c0e07f16e971d4  fff3e1d7bc75f11dc7670619b2e61840\n",
       "50526  ed583a2a1eaf0dedc33af816153e8b8c  fff5eb4918b2bf4b2da476788d42051c\n",
       "31613  5e3e1f4586f475c893bb9b464e0f198d  fff699c184bcc967d62fa2c6171765f7\n",
       "51666  7aa03a53e8c6489f3854470b6ebe9537  fff7219c86179ca6441b8f37823ba3d3\n",
       "3797   cb2db09134b625c16f34f9240653c8b6  fff96bc586f78b1f070da28c4977e810\n",
       "24733  6ab61c668f2cc0bf964afc5666bf4cc3  fffa431dd3fcdefea4b1777d114144f2\n",
       "8619   d0592ede120d52303cfb9044a5ff1910  fffb09418989a0dbff854a28163e47c6\n",
       "641    ed421f2bf6c0ea955e4ac8a5fe646b94  fffbf87b7a1a6fa8b03f081c5f51a201\n",
       "8264   a1746e37af49aa5afd6b195baed286eb  fffcc512b7dfecaffd80f13614af1d16\n",
       "89147  74be082247cd677a147d83ee670e9d53  fffcf5a5ff07b0908bd4e2dbc735a684\n",
       "9810   0ecf8e0a08148af0bf313184f167670a  fffea47cd6d3cc0a88bd621562a9d061\n",
       "69017  27f584b0f1dc4e610065c240f68b6be0  ffff371b4d645b6ecea244b27531430a\n",
       "94891  832a3b0254347d409512ae92eaf154a6  ffff5962728ec6157033ef9805bacc48\n",
       "83624  70bc4d9cf2bbeea3f7b09798370f5884  ffffd2657e2aad2907e67c3e9daecbeb\n",
       "\n",
       "[99441 rows x 2 columns]"
      ]
     },
     "execution_count": 287,
     "metadata": {},
     "output_type": "execute_result"
    }
   ],
   "source": [
    "df[['customer_id','customer_unique_id']].sort_values(by='customer_unique_id')"
   ]
  },
  {
   "cell_type": "code",
   "execution_count": 288,
   "metadata": {
    "collapsed": false
   },
   "outputs": [
    {
     "data": {
      "text/plain": [
       "99441"
      ]
     },
     "execution_count": 288,
     "metadata": {},
     "output_type": "execute_result"
    }
   ],
   "source": [
    "len(df['customer_id'].unique())"
   ]
  },
  {
   "cell_type": "code",
   "execution_count": 289,
   "metadata": {
    "collapsed": false
   },
   "outputs": [
    {
     "data": {
      "text/plain": [
       "96096"
      ]
     },
     "execution_count": 289,
     "metadata": {},
     "output_type": "execute_result"
    }
   ],
   "source": [
    "len(df['customer_unique_id'].unique())"
   ]
  },
  {
   "cell_type": "code",
   "execution_count": 290,
   "metadata": {
    "collapsed": false
   },
   "outputs": [
    {
     "data": {
      "text/plain": [
       "sao paulo                15540\n",
       "rio de janeiro            6882\n",
       "belo horizonte            2773\n",
       "brasilia                  2131\n",
       "curitiba                  1521\n",
       "campinas                  1444\n",
       "porto alegre              1379\n",
       "salvador                  1245\n",
       "guarulhos                 1189\n",
       "sao bernardo do campo      938\n",
       "Name: customer_city, dtype: int64"
      ]
     },
     "execution_count": 290,
     "metadata": {},
     "output_type": "execute_result"
    }
   ],
   "source": [
    "df['customer_city'].value_counts()[0:10]"
   ]
  },
  {
   "cell_type": "code",
   "execution_count": 291,
   "metadata": {
    "collapsed": false
   },
   "outputs": [
    {
     "data": {
      "text/plain": [
       "(99441, 8)"
      ]
     },
     "execution_count": 291,
     "metadata": {},
     "output_type": "execute_result"
    }
   ],
   "source": [
    "df1.shape"
   ]
  },
  {
   "cell_type": "code",
   "execution_count": 292,
   "metadata": {
    "collapsed": false
   },
   "outputs": [
    {
     "data": {
      "text/plain": [
       "Index([u'order_id', u'customer_id', u'order_status',\n",
       "       u'order_purchase_timestamp', u'order_approved_at',\n",
       "       u'order_delivered_carrier_date', u'order_delivered_customer_date',\n",
       "       u'order_estimated_delivery_date'],\n",
       "      dtype='object')"
      ]
     },
     "execution_count": 292,
     "metadata": {},
     "output_type": "execute_result"
    }
   ],
   "source": [
    "df1.columns"
   ]
  },
  {
   "cell_type": "code",
   "execution_count": 293,
   "metadata": {
    "collapsed": false
   },
   "outputs": [
    {
     "data": {
      "text/plain": [
       "Index([u'customer_id', u'customer_unique_id', u'customer_zip_code_prefix',\n",
       "       u'customer_city', u'customer_state'],\n",
       "      dtype='object')"
      ]
     },
     "execution_count": 293,
     "metadata": {},
     "output_type": "execute_result"
    }
   ],
   "source": [
    "df.columns"
   ]
  },
  {
   "cell_type": "code",
   "execution_count": 294,
   "metadata": {
    "collapsed": false
   },
   "outputs": [
    {
     "data": {
      "text/plain": [
       "(112650, 7)"
      ]
     },
     "execution_count": 294,
     "metadata": {},
     "output_type": "execute_result"
    }
   ],
   "source": [
    "df4.shape"
   ]
  },
  {
   "cell_type": "code",
   "execution_count": 295,
   "metadata": {
    "collapsed": false
   },
   "outputs": [
    {
     "data": {
      "text/plain": [
       "Index([u'order_id', u'order_item_id', u'product_id', u'seller_id',\n",
       "       u'shipping_limit_date', u'price', u'freight_value'],\n",
       "      dtype='object')"
      ]
     },
     "execution_count": 295,
     "metadata": {},
     "output_type": "execute_result"
    }
   ],
   "source": [
    "df4.columns"
   ]
  },
  {
   "cell_type": "code",
   "execution_count": 296,
   "metadata": {
    "collapsed": true
   },
   "outputs": [],
   "source": [
    "df4['total_price']=df4['order_item_id']*df4['price']"
   ]
  },
  {
   "cell_type": "code",
   "execution_count": 297,
   "metadata": {
    "collapsed": true
   },
   "outputs": [],
   "source": [
    "df4['total_order_value']=df4['total_price']+df4['order_item_id']*df4['freight_value']"
   ]
  },
  {
   "cell_type": "code",
   "execution_count": 298,
   "metadata": {
    "collapsed": false
   },
   "outputs": [
    {
     "data": {
      "image/png": "[encoded data removed]",
      "text/plain": [
       "<matplotlib.figure.Figure at 0x148c59b50>"
      ]
     },
     "metadata": {},
     "output_type": "display_data"
    }
   ],
   "source": [
    "plt.hist(df4['total_order_value'],bins=20)\n",
    "plt.show()"
   ]
  },
  {
   "cell_type": "code",
   "execution_count": 299,
   "metadata": {
    "collapsed": false
   },
   "outputs": [
    {
     "data": {
      "text/html": [
       "<div>\n",
       "<table border=\"1\" class=\"dataframe\">\n",
       "  <thead>\n",
       "    <tr style=\"text-align: right;\">\n",
       "      <th></th>\n",
       "      <th>order_id</th>\n",
       "      <th>order_item_id</th>\n",
       "      <th>price</th>\n",
       "      <th>freight_value</th>\n",
       "    </tr>\n",
       "  </thead>\n",
       "  <tbody>\n",
       "    <tr>\n",
       "      <th>57317</th>\n",
       "      <td>8272b63d03f5f79c56e9e4120aec44ef</td>\n",
       "      <td>21</td>\n",
       "      <td>7.80</td>\n",
       "      <td>6.57</td>\n",
       "    </tr>\n",
       "    <tr>\n",
       "      <th>57316</th>\n",
       "      <td>8272b63d03f5f79c56e9e4120aec44ef</td>\n",
       "      <td>20</td>\n",
       "      <td>1.20</td>\n",
       "      <td>7.89</td>\n",
       "    </tr>\n",
       "    <tr>\n",
       "      <th>11951</th>\n",
       "      <td>1b15974a0141d54e36626dca3fdc731a</td>\n",
       "      <td>20</td>\n",
       "      <td>100.00</td>\n",
       "      <td>10.12</td>\n",
       "    </tr>\n",
       "    <tr>\n",
       "      <th>75122</th>\n",
       "      <td>ab14fdcfbe524636d65ee38360e22ce8</td>\n",
       "      <td>20</td>\n",
       "      <td>98.70</td>\n",
       "      <td>14.44</td>\n",
       "    </tr>\n",
       "    <tr>\n",
       "      <th>75121</th>\n",
       "      <td>ab14fdcfbe524636d65ee38360e22ce8</td>\n",
       "      <td>19</td>\n",
       "      <td>98.70</td>\n",
       "      <td>14.44</td>\n",
       "    </tr>\n",
       "    <tr>\n",
       "      <th>57315</th>\n",
       "      <td>8272b63d03f5f79c56e9e4120aec44ef</td>\n",
       "      <td>19</td>\n",
       "      <td>1.20</td>\n",
       "      <td>7.89</td>\n",
       "    </tr>\n",
       "    <tr>\n",
       "      <th>11950</th>\n",
       "      <td>1b15974a0141d54e36626dca3fdc731a</td>\n",
       "      <td>19</td>\n",
       "      <td>100.00</td>\n",
       "      <td>10.12</td>\n",
       "    </tr>\n",
       "    <tr>\n",
       "      <th>75120</th>\n",
       "      <td>ab14fdcfbe524636d65ee38360e22ce8</td>\n",
       "      <td>18</td>\n",
       "      <td>98.70</td>\n",
       "      <td>14.44</td>\n",
       "    </tr>\n",
       "    <tr>\n",
       "      <th>11949</th>\n",
       "      <td>1b15974a0141d54e36626dca3fdc731a</td>\n",
       "      <td>18</td>\n",
       "      <td>100.00</td>\n",
       "      <td>10.12</td>\n",
       "    </tr>\n",
       "    <tr>\n",
       "      <th>57314</th>\n",
       "      <td>8272b63d03f5f79c56e9e4120aec44ef</td>\n",
       "      <td>18</td>\n",
       "      <td>1.20</td>\n",
       "      <td>7.89</td>\n",
       "    </tr>\n",
       "    <tr>\n",
       "      <th>11948</th>\n",
       "      <td>1b15974a0141d54e36626dca3fdc731a</td>\n",
       "      <td>17</td>\n",
       "      <td>100.00</td>\n",
       "      <td>10.12</td>\n",
       "    </tr>\n",
       "    <tr>\n",
       "      <th>57313</th>\n",
       "      <td>8272b63d03f5f79c56e9e4120aec44ef</td>\n",
       "      <td>17</td>\n",
       "      <td>1.20</td>\n",
       "      <td>7.89</td>\n",
       "    </tr>\n",
       "    <tr>\n",
       "      <th>75119</th>\n",
       "      <td>ab14fdcfbe524636d65ee38360e22ce8</td>\n",
       "      <td>17</td>\n",
       "      <td>98.70</td>\n",
       "      <td>14.44</td>\n",
       "    </tr>\n",
       "    <tr>\n",
       "      <th>75118</th>\n",
       "      <td>ab14fdcfbe524636d65ee38360e22ce8</td>\n",
       "      <td>16</td>\n",
       "      <td>98.70</td>\n",
       "      <td>14.44</td>\n",
       "    </tr>\n",
       "    <tr>\n",
       "      <th>11947</th>\n",
       "      <td>1b15974a0141d54e36626dca3fdc731a</td>\n",
       "      <td>16</td>\n",
       "      <td>100.00</td>\n",
       "      <td>10.12</td>\n",
       "    </tr>\n",
       "    <tr>\n",
       "      <th>57312</th>\n",
       "      <td>8272b63d03f5f79c56e9e4120aec44ef</td>\n",
       "      <td>16</td>\n",
       "      <td>1.20</td>\n",
       "      <td>7.89</td>\n",
       "    </tr>\n",
       "    <tr>\n",
       "      <th>57311</th>\n",
       "      <td>8272b63d03f5f79c56e9e4120aec44ef</td>\n",
       "      <td>15</td>\n",
       "      <td>1.20</td>\n",
       "      <td>7.89</td>\n",
       "    </tr>\n",
       "    <tr>\n",
       "      <th>29271</th>\n",
       "      <td>428a2f660dc84138d969ccd69a0ab6d5</td>\n",
       "      <td>15</td>\n",
       "      <td>65.49</td>\n",
       "      <td>16.22</td>\n",
       "    </tr>\n",
       "    <tr>\n",
       "      <th>11946</th>\n",
       "      <td>1b15974a0141d54e36626dca3fdc731a</td>\n",
       "      <td>15</td>\n",
       "      <td>100.00</td>\n",
       "      <td>10.12</td>\n",
       "    </tr>\n",
       "    <tr>\n",
       "      <th>75117</th>\n",
       "      <td>ab14fdcfbe524636d65ee38360e22ce8</td>\n",
       "      <td>15</td>\n",
       "      <td>98.70</td>\n",
       "      <td>14.44</td>\n",
       "    </tr>\n",
       "    <tr>\n",
       "      <th>69654</th>\n",
       "      <td>9ef13efd6949e4573a18964dd1bbe7f5</td>\n",
       "      <td>15</td>\n",
       "      <td>51.00</td>\n",
       "      <td>1.20</td>\n",
       "    </tr>\n",
       "    <tr>\n",
       "      <th>57310</th>\n",
       "      <td>8272b63d03f5f79c56e9e4120aec44ef</td>\n",
       "      <td>14</td>\n",
       "      <td>1.20</td>\n",
       "      <td>7.89</td>\n",
       "    </tr>\n",
       "    <tr>\n",
       "      <th>29270</th>\n",
       "      <td>428a2f660dc84138d969ccd69a0ab6d5</td>\n",
       "      <td>14</td>\n",
       "      <td>65.49</td>\n",
       "      <td>16.22</td>\n",
       "    </tr>\n",
       "    <tr>\n",
       "      <th>50927</th>\n",
       "      <td>73c8ab38f07dc94389065f7eba4f297a</td>\n",
       "      <td>14</td>\n",
       "      <td>59.00</td>\n",
       "      <td>13.43</td>\n",
       "    </tr>\n",
       "    <tr>\n",
       "      <th>69653</th>\n",
       "      <td>9ef13efd6949e4573a18964dd1bbe7f5</td>\n",
       "      <td>14</td>\n",
       "      <td>51.00</td>\n",
       "      <td>1.20</td>\n",
       "    </tr>\n",
       "    <tr>\n",
       "      <th>75116</th>\n",
       "      <td>ab14fdcfbe524636d65ee38360e22ce8</td>\n",
       "      <td>14</td>\n",
       "      <td>98.70</td>\n",
       "      <td>14.44</td>\n",
       "    </tr>\n",
       "    <tr>\n",
       "      <th>68198</th>\n",
       "      <td>9bdc4d4c71aa1de4606060929dee888c</td>\n",
       "      <td>14</td>\n",
       "      <td>29.99</td>\n",
       "      <td>7.78</td>\n",
       "    </tr>\n",
       "    <tr>\n",
       "      <th>11945</th>\n",
       "      <td>1b15974a0141d54e36626dca3fdc731a</td>\n",
       "      <td>14</td>\n",
       "      <td>100.00</td>\n",
       "      <td>10.12</td>\n",
       "    </tr>\n",
       "    <tr>\n",
       "      <th>75115</th>\n",
       "      <td>ab14fdcfbe524636d65ee38360e22ce8</td>\n",
       "      <td>13</td>\n",
       "      <td>98.70</td>\n",
       "      <td>14.44</td>\n",
       "    </tr>\n",
       "    <tr>\n",
       "      <th>57309</th>\n",
       "      <td>8272b63d03f5f79c56e9e4120aec44ef</td>\n",
       "      <td>13</td>\n",
       "      <td>1.20</td>\n",
       "      <td>7.89</td>\n",
       "    </tr>\n",
       "    <tr>\n",
       "      <th>...</th>\n",
       "      <td>...</td>\n",
       "      <td>...</td>\n",
       "      <td>...</td>\n",
       "      <td>...</td>\n",
       "    </tr>\n",
       "    <tr>\n",
       "      <th>40029</th>\n",
       "      <td>5b19559d742224610c730e73362fd0e4</td>\n",
       "      <td>1</td>\n",
       "      <td>49.90</td>\n",
       "      <td>7.78</td>\n",
       "    </tr>\n",
       "    <tr>\n",
       "      <th>40028</th>\n",
       "      <td>5b18e0708f150becd4334b9e3d79fbd4</td>\n",
       "      <td>1</td>\n",
       "      <td>114.99</td>\n",
       "      <td>28.16</td>\n",
       "    </tr>\n",
       "    <tr>\n",
       "      <th>40027</th>\n",
       "      <td>5b18b03607394168a3dd744501c2dd00</td>\n",
       "      <td>1</td>\n",
       "      <td>19.99</td>\n",
       "      <td>15.10</td>\n",
       "    </tr>\n",
       "    <tr>\n",
       "      <th>40026</th>\n",
       "      <td>5b181a5480a2873bf4689add4630e731</td>\n",
       "      <td>1</td>\n",
       "      <td>179.90</td>\n",
       "      <td>15.01</td>\n",
       "    </tr>\n",
       "    <tr>\n",
       "      <th>40051</th>\n",
       "      <td>5b2b9ac65739f66309f4ca13b999dc19</td>\n",
       "      <td>1</td>\n",
       "      <td>13.98</td>\n",
       "      <td>21.15</td>\n",
       "    </tr>\n",
       "    <tr>\n",
       "      <th>40052</th>\n",
       "      <td>5b2bc181b79df76b831c2c73bfa96c08</td>\n",
       "      <td>1</td>\n",
       "      <td>117.30</td>\n",
       "      <td>21.73</td>\n",
       "    </tr>\n",
       "    <tr>\n",
       "      <th>40053</th>\n",
       "      <td>5b2c5ecc56d504463b1e5d8e918f6069</td>\n",
       "      <td>1</td>\n",
       "      <td>43.99</td>\n",
       "      <td>25.19</td>\n",
       "    </tr>\n",
       "    <tr>\n",
       "      <th>40054</th>\n",
       "      <td>5b2c9910c96e7dec4dac98d009a43858</td>\n",
       "      <td>1</td>\n",
       "      <td>46.86</td>\n",
       "      <td>14.52</td>\n",
       "    </tr>\n",
       "    <tr>\n",
       "      <th>40077</th>\n",
       "      <td>5b3a827693de8853bedacce89b3cc8cd</td>\n",
       "      <td>1</td>\n",
       "      <td>28.99</td>\n",
       "      <td>14.10</td>\n",
       "    </tr>\n",
       "    <tr>\n",
       "      <th>40076</th>\n",
       "      <td>5b3a63257bc1c61c9dd42f9b52df223f</td>\n",
       "      <td>1</td>\n",
       "      <td>79.99</td>\n",
       "      <td>23.14</td>\n",
       "    </tr>\n",
       "    <tr>\n",
       "      <th>40075</th>\n",
       "      <td>5b3a129d267d949715aa05716b21cc81</td>\n",
       "      <td>1</td>\n",
       "      <td>24.50</td>\n",
       "      <td>15.10</td>\n",
       "    </tr>\n",
       "    <tr>\n",
       "      <th>40074</th>\n",
       "      <td>5b397bd9f4b5824b8bcccd02f062bdcb</td>\n",
       "      <td>1</td>\n",
       "      <td>118.00</td>\n",
       "      <td>17.74</td>\n",
       "    </tr>\n",
       "    <tr>\n",
       "      <th>40073</th>\n",
       "      <td>5b36d696990ca3b000d4094e51d5b2a1</td>\n",
       "      <td>1</td>\n",
       "      <td>11.50</td>\n",
       "      <td>18.23</td>\n",
       "    </tr>\n",
       "    <tr>\n",
       "      <th>40072</th>\n",
       "      <td>5b362ea8f021e5d7e02100d4ae069424</td>\n",
       "      <td>1</td>\n",
       "      <td>59.80</td>\n",
       "      <td>15.17</td>\n",
       "    </tr>\n",
       "    <tr>\n",
       "      <th>40071</th>\n",
       "      <td>5b361f79a49d353fe005273cc5dd725d</td>\n",
       "      <td>1</td>\n",
       "      <td>13.65</td>\n",
       "      <td>15.23</td>\n",
       "    </tr>\n",
       "    <tr>\n",
       "      <th>40070</th>\n",
       "      <td>5b35972421686a8a4758f542bf3fce74</td>\n",
       "      <td>1</td>\n",
       "      <td>27.90</td>\n",
       "      <td>15.10</td>\n",
       "    </tr>\n",
       "    <tr>\n",
       "      <th>40069</th>\n",
       "      <td>5b33e5b23e569f404e6eccbbce3e0aa4</td>\n",
       "      <td>1</td>\n",
       "      <td>572.00</td>\n",
       "      <td>64.74</td>\n",
       "    </tr>\n",
       "    <tr>\n",
       "      <th>40068</th>\n",
       "      <td>5b3367de06e5c2955a98de36a52fbe1a</td>\n",
       "      <td>1</td>\n",
       "      <td>235.00</td>\n",
       "      <td>12.26</td>\n",
       "    </tr>\n",
       "    <tr>\n",
       "      <th>40067</th>\n",
       "      <td>5b33495590a02d7e9ce6fbdc52f143d9</td>\n",
       "      <td>1</td>\n",
       "      <td>29.90</td>\n",
       "      <td>15.31</td>\n",
       "    </tr>\n",
       "    <tr>\n",
       "      <th>40066</th>\n",
       "      <td>5b33463a5e3fd8ed5b6ad88d44edd316</td>\n",
       "      <td>1</td>\n",
       "      <td>166.99</td>\n",
       "      <td>13.72</td>\n",
       "    </tr>\n",
       "    <tr>\n",
       "      <th>40064</th>\n",
       "      <td>5b33244d158adb23abb0d481fa052af8</td>\n",
       "      <td>1</td>\n",
       "      <td>29.90</td>\n",
       "      <td>4.24</td>\n",
       "    </tr>\n",
       "    <tr>\n",
       "      <th>40063</th>\n",
       "      <td>5b30d3d26fa80138cf0eeaedf8a3a1a5</td>\n",
       "      <td>1</td>\n",
       "      <td>44.49</td>\n",
       "      <td>9.06</td>\n",
       "    </tr>\n",
       "    <tr>\n",
       "      <th>40062</th>\n",
       "      <td>5b30af3b150295616c6564e91b8ec214</td>\n",
       "      <td>1</td>\n",
       "      <td>279.90</td>\n",
       "      <td>13.46</td>\n",
       "    </tr>\n",
       "    <tr>\n",
       "      <th>40061</th>\n",
       "      <td>5b30ad24f4e7ba20015ff2f3c2c30aa5</td>\n",
       "      <td>1</td>\n",
       "      <td>99.90</td>\n",
       "      <td>17.95</td>\n",
       "    </tr>\n",
       "    <tr>\n",
       "      <th>40060</th>\n",
       "      <td>5b305608c98ca66ced71cde019aba8e9</td>\n",
       "      <td>1</td>\n",
       "      <td>249.90</td>\n",
       "      <td>36.88</td>\n",
       "    </tr>\n",
       "    <tr>\n",
       "      <th>40059</th>\n",
       "      <td>5b2f8cfd2fc117b59e6a0247d77f07d1</td>\n",
       "      <td>1</td>\n",
       "      <td>79.00</td>\n",
       "      <td>12.99</td>\n",
       "    </tr>\n",
       "    <tr>\n",
       "      <th>40058</th>\n",
       "      <td>5b2f1ff03b77977af4258e7cfc2ec799</td>\n",
       "      <td>1</td>\n",
       "      <td>241.00</td>\n",
       "      <td>19.57</td>\n",
       "    </tr>\n",
       "    <tr>\n",
       "      <th>40057</th>\n",
       "      <td>5b2e79428198e5ce482f9ec1bd1014c3</td>\n",
       "      <td>1</td>\n",
       "      <td>126.99</td>\n",
       "      <td>48.33</td>\n",
       "    </tr>\n",
       "    <tr>\n",
       "      <th>40056</th>\n",
       "      <td>5b2e70f861de8953b06ea667adc2eb4e</td>\n",
       "      <td>1</td>\n",
       "      <td>235.00</td>\n",
       "      <td>23.71</td>\n",
       "    </tr>\n",
       "    <tr>\n",
       "      <th>112649</th>\n",
       "      <td>fffe41c64501cc87c801fd61db3f6244</td>\n",
       "      <td>1</td>\n",
       "      <td>43.00</td>\n",
       "      <td>12.79</td>\n",
       "    </tr>\n",
       "  </tbody>\n",
       "</table>\n",
       "<p>112650 rows × 4 columns</p>\n",
       "</div>"
      ],
      "text/plain": [
       "                                order_id  order_item_id   price  freight_value\n",
       "57317   8272b63d03f5f79c56e9e4120aec44ef             21    7.80           6.57\n",
       "57316   8272b63d03f5f79c56e9e4120aec44ef             20    1.20           7.89\n",
       "11951   1b15974a0141d54e36626dca3fdc731a             20  100.00          10.12\n",
       "75122   ab14fdcfbe524636d65ee38360e22ce8             20   98.70          14.44\n",
       "75121   ab14fdcfbe524636d65ee38360e22ce8             19   98.70          14.44\n",
       "57315   8272b63d03f5f79c56e9e4120aec44ef             19    1.20           7.89\n",
       "11950   1b15974a0141d54e36626dca3fdc731a             19  100.00          10.12\n",
       "75120   ab14fdcfbe524636d65ee38360e22ce8             18   98.70          14.44\n",
       "11949   1b15974a0141d54e36626dca3fdc731a             18  100.00          10.12\n",
       "57314   8272b63d03f5f79c56e9e4120aec44ef             18    1.20           7.89\n",
       "11948   1b15974a0141d54e36626dca3fdc731a             17  100.00          10.12\n",
       "57313   8272b63d03f5f79c56e9e4120aec44ef             17    1.20           7.89\n",
       "75119   ab14fdcfbe524636d65ee38360e22ce8             17   98.70          14.44\n",
       "75118   ab14fdcfbe524636d65ee38360e22ce8             16   98.70          14.44\n",
       "11947   1b15974a0141d54e36626dca3fdc731a             16  100.00          10.12\n",
       "57312   8272b63d03f5f79c56e9e4120aec44ef             16    1.20           7.89\n",
       "57311   8272b63d03f5f79c56e9e4120aec44ef             15    1.20           7.89\n",
       "29271   428a2f660dc84138d969ccd69a0ab6d5             15   65.49          16.22\n",
       "11946   1b15974a0141d54e36626dca3fdc731a             15  100.00          10.12\n",
       "75117   ab14fdcfbe524636d65ee38360e22ce8             15   98.70          14.44\n",
       "69654   9ef13efd6949e4573a18964dd1bbe7f5             15   51.00           1.20\n",
       "57310   8272b63d03f5f79c56e9e4120aec44ef             14    1.20           7.89\n",
       "29270   428a2f660dc84138d969ccd69a0ab6d5             14   65.49          16.22\n",
       "50927   73c8ab38f07dc94389065f7eba4f297a             14   59.00          13.43\n",
       "69653   9ef13efd6949e4573a18964dd1bbe7f5             14   51.00           1.20\n",
       "75116   ab14fdcfbe524636d65ee38360e22ce8             14   98.70          14.44\n",
       "68198   9bdc4d4c71aa1de4606060929dee888c             14   29.99           7.78\n",
       "11945   1b15974a0141d54e36626dca3fdc731a             14  100.00          10.12\n",
       "75115   ab14fdcfbe524636d65ee38360e22ce8             13   98.70          14.44\n",
       "57309   8272b63d03f5f79c56e9e4120aec44ef             13    1.20           7.89\n",
       "...                                  ...            ...     ...            ...\n",
       "40029   5b19559d742224610c730e73362fd0e4              1   49.90           7.78\n",
       "40028   5b18e0708f150becd4334b9e3d79fbd4              1  114.99          28.16\n",
       "40027   5b18b03607394168a3dd744501c2dd00              1   19.99          15.10\n",
       "40026   5b181a5480a2873bf4689add4630e731              1  179.90          15.01\n",
       "40051   5b2b9ac65739f66309f4ca13b999dc19              1   13.98          21.15\n",
       "40052   5b2bc181b79df76b831c2c73bfa96c08              1  117.30          21.73\n",
       "40053   5b2c5ecc56d504463b1e5d8e918f6069              1   43.99          25.19\n",
       "40054   5b2c9910c96e7dec4dac98d009a43858              1   46.86          14.52\n",
       "40077   5b3a827693de8853bedacce89b3cc8cd              1   28.99          14.10\n",
       "40076   5b3a63257bc1c61c9dd42f9b52df223f              1   79.99          23.14\n",
       "40075   5b3a129d267d949715aa05716b21cc81              1   24.50          15.10\n",
       "40074   5b397bd9f4b5824b8bcccd02f062bdcb              1  118.00          17.74\n",
       "40073   5b36d696990ca3b000d4094e51d5b2a1              1   11.50          18.23\n",
       "40072   5b362ea8f021e5d7e02100d4ae069424              1   59.80          15.17\n",
       "40071   5b361f79a49d353fe005273cc5dd725d              1   13.65          15.23\n",
       "40070   5b35972421686a8a4758f542bf3fce74              1   27.90          15.10\n",
       "40069   5b33e5b23e569f404e6eccbbce3e0aa4              1  572.00          64.74\n",
       "40068   5b3367de06e5c2955a98de36a52fbe1a              1  235.00          12.26\n",
       "40067   5b33495590a02d7e9ce6fbdc52f143d9              1   29.90          15.31\n",
       "40066   5b33463a5e3fd8ed5b6ad88d44edd316              1  166.99          13.72\n",
       "40064   5b33244d158adb23abb0d481fa052af8              1   29.90           4.24\n",
       "40063   5b30d3d26fa80138cf0eeaedf8a3a1a5              1   44.49           9.06\n",
       "40062   5b30af3b150295616c6564e91b8ec214              1  279.90          13.46\n",
       "40061   5b30ad24f4e7ba20015ff2f3c2c30aa5              1   99.90          17.95\n",
       "40060   5b305608c98ca66ced71cde019aba8e9              1  249.90          36.88\n",
       "40059   5b2f8cfd2fc117b59e6a0247d77f07d1              1   79.00          12.99\n",
       "40058   5b2f1ff03b77977af4258e7cfc2ec799              1  241.00          19.57\n",
       "40057   5b2e79428198e5ce482f9ec1bd1014c3              1  126.99          48.33\n",
       "40056   5b2e70f861de8953b06ea667adc2eb4e              1  235.00          23.71\n",
       "112649  fffe41c64501cc87c801fd61db3f6244              1   43.00          12.79\n",
       "\n",
       "[112650 rows x 4 columns]"
      ]
     },
     "execution_count": 299,
     "metadata": {},
     "output_type": "execute_result"
    }
   ],
   "source": [
    "df4[['order_id','order_item_id','price','freight_value']].sort_values(by='order_item_id',ascending=False)"
   ]
  },
  {
   "cell_type": "code",
   "execution_count": 300,
   "metadata": {
    "collapsed": false
   },
   "outputs": [],
   "source": [
    "df3=df.merge(df1,on='customer_id')"
   ]
  },
  {
   "cell_type": "code",
   "execution_count": 301,
   "metadata": {
    "collapsed": false
   },
   "outputs": [
    {
     "data": {
      "text/plain": [
       "Index([u'customer_id', u'customer_unique_id', u'customer_zip_code_prefix',\n",
       "       u'customer_city', u'customer_state', u'order_id', u'order_status',\n",
       "       u'order_purchase_timestamp', u'order_approved_at',\n",
       "       u'order_delivered_carrier_date', u'order_delivered_customer_date',\n",
       "       u'order_estimated_delivery_date'],\n",
       "      dtype='object')"
      ]
     },
     "execution_count": 301,
     "metadata": {},
     "output_type": "execute_result"
    }
   ],
   "source": [
    "df3.columns"
   ]
  },
  {
   "cell_type": "code",
   "execution_count": 302,
   "metadata": {
    "collapsed": false
   },
   "outputs": [
    {
     "data": {
      "text/plain": [
       "(99441, 12)"
      ]
     },
     "execution_count": 302,
     "metadata": {},
     "output_type": "execute_result"
    }
   ],
   "source": [
    "df3.shape"
   ]
  },
  {
   "cell_type": "code",
   "execution_count": 303,
   "metadata": {
    "collapsed": false
   },
   "outputs": [
    {
     "data": {
      "text/plain": [
       "Index([u'order_id', u'order_item_id', u'product_id', u'seller_id',\n",
       "       u'shipping_limit_date', u'price', u'freight_value', u'total_price',\n",
       "       u'total_order_value'],\n",
       "      dtype='object')"
      ]
     },
     "execution_count": 303,
     "metadata": {},
     "output_type": "execute_result"
    }
   ],
   "source": [
    "df4.columns"
   ]
  },
  {
   "cell_type": "code",
   "execution_count": 269,
   "metadata": {
    "collapsed": false
   },
   "outputs": [],
   "source": [
    "df4_agg=pd.pivot_table(df4,index='order_id',values=['order_item_id','product_id','price'],\n",
    "                       aggfunc=('sum','count','mean'))"
   ]
  },
  {
   "cell_type": "code",
   "execution_count": 270,
   "metadata": {
    "collapsed": false
   },
   "outputs": [],
   "source": [
    "df4_agg=df4.groupby('order_id').aggregate({'order_item_id':np.sum, 'product_id':len, 'price':np.mean})"
   ]
  },
  {
   "cell_type": "code",
   "execution_count": 271,
   "metadata": {
    "collapsed": false
   },
   "outputs": [],
   "source": [
    "df4_agg=df4_agg.reset_index()"
   ]
  },
  {
   "cell_type": "code",
   "execution_count": 277,
   "metadata": {
    "collapsed": false
   },
   "outputs": [
    {
     "data": {
      "text/html": [
       "<div>\n",
       "<table border=\"1\" class=\"dataframe\">\n",
       "  <thead>\n",
       "    <tr style=\"text-align: right;\">\n",
       "      <th></th>\n",
       "      <th>order_id</th>\n",
       "      <th>price</th>\n",
       "      <th>product_id</th>\n",
       "      <th>order_item_id</th>\n",
       "    </tr>\n",
       "  </thead>\n",
       "  <tbody>\n",
       "    <tr>\n",
       "      <th>0</th>\n",
       "      <td>00010242fe8c5a6d1ba2dd792cb16214</td>\n",
       "      <td>58.90</td>\n",
       "      <td>1</td>\n",
       "      <td>1</td>\n",
       "    </tr>\n",
       "    <tr>\n",
       "      <th>1</th>\n",
       "      <td>00018f77f2f0320c557190d7a144bdd3</td>\n",
       "      <td>239.90</td>\n",
       "      <td>1</td>\n",
       "      <td>1</td>\n",
       "    </tr>\n",
       "    <tr>\n",
       "      <th>2</th>\n",
       "      <td>000229ec398224ef6ca0657da4fc703e</td>\n",
       "      <td>199.00</td>\n",
       "      <td>1</td>\n",
       "      <td>1</td>\n",
       "    </tr>\n",
       "    <tr>\n",
       "      <th>3</th>\n",
       "      <td>00024acbcdf0a6daa1e931b038114c75</td>\n",
       "      <td>12.99</td>\n",
       "      <td>1</td>\n",
       "      <td>1</td>\n",
       "    </tr>\n",
       "    <tr>\n",
       "      <th>4</th>\n",
       "      <td>00042b26cf59d7ce69dfabb4e55b4fd9</td>\n",
       "      <td>199.90</td>\n",
       "      <td>1</td>\n",
       "      <td>1</td>\n",
       "    </tr>\n",
       "    <tr>\n",
       "      <th>5</th>\n",
       "      <td>00048cc3ae777c65dbb7d2a0634bc1ea</td>\n",
       "      <td>21.90</td>\n",
       "      <td>1</td>\n",
       "      <td>1</td>\n",
       "    </tr>\n",
       "    <tr>\n",
       "      <th>6</th>\n",
       "      <td>00054e8431b9d7675808bcb819fb4a32</td>\n",
       "      <td>19.90</td>\n",
       "      <td>1</td>\n",
       "      <td>1</td>\n",
       "    </tr>\n",
       "    <tr>\n",
       "      <th>7</th>\n",
       "      <td>000576fe39319847cbb9d288c5617fa6</td>\n",
       "      <td>810.00</td>\n",
       "      <td>1</td>\n",
       "      <td>1</td>\n",
       "    </tr>\n",
       "    <tr>\n",
       "      <th>8</th>\n",
       "      <td>0005a1a1728c9d785b8e2b08b904576c</td>\n",
       "      <td>145.95</td>\n",
       "      <td>1</td>\n",
       "      <td>1</td>\n",
       "    </tr>\n",
       "    <tr>\n",
       "      <th>9</th>\n",
       "      <td>0005f50442cb953dcd1d21e1fb923495</td>\n",
       "      <td>53.99</td>\n",
       "      <td>1</td>\n",
       "      <td>1</td>\n",
       "    </tr>\n",
       "    <tr>\n",
       "      <th>10</th>\n",
       "      <td>00061f2a7bc09da83e415a52dc8a4af1</td>\n",
       "      <td>59.99</td>\n",
       "      <td>1</td>\n",
       "      <td>1</td>\n",
       "    </tr>\n",
       "    <tr>\n",
       "      <th>11</th>\n",
       "      <td>00063b381e2406b52ad429470734ebd5</td>\n",
       "      <td>45.00</td>\n",
       "      <td>1</td>\n",
       "      <td>1</td>\n",
       "    </tr>\n",
       "    <tr>\n",
       "      <th>12</th>\n",
       "      <td>0006ec9db01a64e59a68b2c340bf65a7</td>\n",
       "      <td>74.00</td>\n",
       "      <td>1</td>\n",
       "      <td>1</td>\n",
       "    </tr>\n",
       "    <tr>\n",
       "      <th>13</th>\n",
       "      <td>0008288aa423d2a3f00fcb17cd7d8719</td>\n",
       "      <td>49.90</td>\n",
       "      <td>2</td>\n",
       "      <td>3</td>\n",
       "    </tr>\n",
       "    <tr>\n",
       "      <th>14</th>\n",
       "      <td>0009792311464db532ff765bf7b182ae</td>\n",
       "      <td>99.90</td>\n",
       "      <td>1</td>\n",
       "      <td>1</td>\n",
       "    </tr>\n",
       "    <tr>\n",
       "      <th>15</th>\n",
       "      <td>0009c9a17f916a706d71784483a5d643</td>\n",
       "      <td>639.00</td>\n",
       "      <td>1</td>\n",
       "      <td>1</td>\n",
       "    </tr>\n",
       "    <tr>\n",
       "      <th>16</th>\n",
       "      <td>000aed2e25dbad2f9ddb70584c5a2ded</td>\n",
       "      <td>144.00</td>\n",
       "      <td>1</td>\n",
       "      <td>1</td>\n",
       "    </tr>\n",
       "    <tr>\n",
       "      <th>17</th>\n",
       "      <td>000c3e6612759851cc3cbb4b83257986</td>\n",
       "      <td>99.00</td>\n",
       "      <td>1</td>\n",
       "      <td>1</td>\n",
       "    </tr>\n",
       "    <tr>\n",
       "      <th>18</th>\n",
       "      <td>000e562887b1f2006d75e0be9558292e</td>\n",
       "      <td>25.00</td>\n",
       "      <td>1</td>\n",
       "      <td>1</td>\n",
       "    </tr>\n",
       "    <tr>\n",
       "      <th>19</th>\n",
       "      <td>000e63d38ae8c00bbcb5a30573b99628</td>\n",
       "      <td>47.90</td>\n",
       "      <td>1</td>\n",
       "      <td>1</td>\n",
       "    </tr>\n",
       "    <tr>\n",
       "      <th>20</th>\n",
       "      <td>000e906b789b55f64edcb1f84030f90d</td>\n",
       "      <td>21.99</td>\n",
       "      <td>1</td>\n",
       "      <td>1</td>\n",
       "    </tr>\n",
       "    <tr>\n",
       "      <th>21</th>\n",
       "      <td>000f25f4d72195062c040b12dce9a18a</td>\n",
       "      <td>119.99</td>\n",
       "      <td>1</td>\n",
       "      <td>1</td>\n",
       "    </tr>\n",
       "    <tr>\n",
       "      <th>22</th>\n",
       "      <td>001021efaa8636c29475e7734483457d</td>\n",
       "      <td>49.00</td>\n",
       "      <td>1</td>\n",
       "      <td>1</td>\n",
       "    </tr>\n",
       "    <tr>\n",
       "      <th>23</th>\n",
       "      <td>0010b2e5201cc5f1ae7e9c6cc8f5bd00</td>\n",
       "      <td>48.90</td>\n",
       "      <td>1</td>\n",
       "      <td>1</td>\n",
       "    </tr>\n",
       "    <tr>\n",
       "      <th>24</th>\n",
       "      <td>00119ff934e539cf26f92b9ef0cdfed8</td>\n",
       "      <td>219.90</td>\n",
       "      <td>1</td>\n",
       "      <td>1</td>\n",
       "    </tr>\n",
       "    <tr>\n",
       "      <th>25</th>\n",
       "      <td>0011d82c4b53e22e84023405fb467e57</td>\n",
       "      <td>289.00</td>\n",
       "      <td>1</td>\n",
       "      <td>1</td>\n",
       "    </tr>\n",
       "    <tr>\n",
       "      <th>26</th>\n",
       "      <td>00125cb692d04887809806618a2a145f</td>\n",
       "      <td>109.90</td>\n",
       "      <td>1</td>\n",
       "      <td>1</td>\n",
       "    </tr>\n",
       "    <tr>\n",
       "      <th>27</th>\n",
       "      <td>00130c0eee84a3d909e75bc08c5c3ca1</td>\n",
       "      <td>27.90</td>\n",
       "      <td>1</td>\n",
       "      <td>1</td>\n",
       "    </tr>\n",
       "    <tr>\n",
       "      <th>28</th>\n",
       "      <td>0013503b13da1eac686219390b7d641b</td>\n",
       "      <td>119.90</td>\n",
       "      <td>1</td>\n",
       "      <td>1</td>\n",
       "    </tr>\n",
       "    <tr>\n",
       "      <th>29</th>\n",
       "      <td>00137e170939bba5a3134e2386413108</td>\n",
       "      <td>397.00</td>\n",
       "      <td>1</td>\n",
       "      <td>1</td>\n",
       "    </tr>\n",
       "    <tr>\n",
       "      <th>...</th>\n",
       "      <td>...</td>\n",
       "      <td>...</td>\n",
       "      <td>...</td>\n",
       "      <td>...</td>\n",
       "    </tr>\n",
       "    <tr>\n",
       "      <th>98636</th>\n",
       "      <td>ffec1a6d35149778ec575d5048d44db8</td>\n",
       "      <td>47.65</td>\n",
       "      <td>1</td>\n",
       "      <td>1</td>\n",
       "    </tr>\n",
       "    <tr>\n",
       "      <th>98637</th>\n",
       "      <td>ffecd5a79a0084f6a592288c67e3c298</td>\n",
       "      <td>21.90</td>\n",
       "      <td>3</td>\n",
       "      <td>6</td>\n",
       "    </tr>\n",
       "    <tr>\n",
       "      <th>98638</th>\n",
       "      <td>ffed7e90414c1477a6b92554661d465f</td>\n",
       "      <td>149.90</td>\n",
       "      <td>1</td>\n",
       "      <td>1</td>\n",
       "    </tr>\n",
       "    <tr>\n",
       "      <th>98639</th>\n",
       "      <td>ffee31fb4b5e35c9123608015637c495</td>\n",
       "      <td>99.00</td>\n",
       "      <td>1</td>\n",
       "      <td>1</td>\n",
       "    </tr>\n",
       "    <tr>\n",
       "      <th>98640</th>\n",
       "      <td>ffeeb911d070bea3dd20bd5fd01da5e8</td>\n",
       "      <td>79.50</td>\n",
       "      <td>1</td>\n",
       "      <td>1</td>\n",
       "    </tr>\n",
       "    <tr>\n",
       "      <th>98641</th>\n",
       "      <td>ffef98cd5ecdc992fefbd967549520dd</td>\n",
       "      <td>139.90</td>\n",
       "      <td>1</td>\n",
       "      <td>1</td>\n",
       "    </tr>\n",
       "    <tr>\n",
       "      <th>98642</th>\n",
       "      <td>ffef9e1de5dd07b397b373f9bb72cccf</td>\n",
       "      <td>94.00</td>\n",
       "      <td>1</td>\n",
       "      <td>1</td>\n",
       "    </tr>\n",
       "    <tr>\n",
       "      <th>98643</th>\n",
       "      <td>ffefb169ddf34cecc0622a6d3cc387f8</td>\n",
       "      <td>129.99</td>\n",
       "      <td>1</td>\n",
       "      <td>1</td>\n",
       "    </tr>\n",
       "    <tr>\n",
       "      <th>98644</th>\n",
       "      <td>fff0db5573c78c1cb5a2b68a2bbd8d4a</td>\n",
       "      <td>69.95</td>\n",
       "      <td>1</td>\n",
       "      <td>1</td>\n",
       "    </tr>\n",
       "    <tr>\n",
       "      <th>98645</th>\n",
       "      <td>fff1e3e76b816bfe8ef16678cc53c643</td>\n",
       "      <td>65.99</td>\n",
       "      <td>1</td>\n",
       "      <td>1</td>\n",
       "    </tr>\n",
       "    <tr>\n",
       "      <th>98646</th>\n",
       "      <td>fff2cdc825f9fc0ba3c04227cfa02303</td>\n",
       "      <td>24.99</td>\n",
       "      <td>1</td>\n",
       "      <td>1</td>\n",
       "    </tr>\n",
       "    <tr>\n",
       "      <th>98647</th>\n",
       "      <td>fff2e9e3aa8644e19710216b4ef53ab2</td>\n",
       "      <td>69.90</td>\n",
       "      <td>1</td>\n",
       "      <td>1</td>\n",
       "    </tr>\n",
       "    <tr>\n",
       "      <th>98648</th>\n",
       "      <td>fff3983dfa3c5a0d752d8d17baa406a0</td>\n",
       "      <td>66.39</td>\n",
       "      <td>1</td>\n",
       "      <td>1</td>\n",
       "    </tr>\n",
       "    <tr>\n",
       "      <th>98649</th>\n",
       "      <td>fff60e5408a9dd1e92ee30023052af30</td>\n",
       "      <td>129.90</td>\n",
       "      <td>1</td>\n",
       "      <td>1</td>\n",
       "    </tr>\n",
       "    <tr>\n",
       "      <th>98650</th>\n",
       "      <td>fff6889749958e42b47a7977a4cf0ea0</td>\n",
       "      <td>92.00</td>\n",
       "      <td>1</td>\n",
       "      <td>1</td>\n",
       "    </tr>\n",
       "    <tr>\n",
       "      <th>98651</th>\n",
       "      <td>fff6b8ca971f8e3ec822e99d0f2d3d21</td>\n",
       "      <td>199.00</td>\n",
       "      <td>1</td>\n",
       "      <td>1</td>\n",
       "    </tr>\n",
       "    <tr>\n",
       "      <th>98652</th>\n",
       "      <td>fff7c4452f050315db1b3f24d9df5fcd</td>\n",
       "      <td>736.00</td>\n",
       "      <td>1</td>\n",
       "      <td>1</td>\n",
       "    </tr>\n",
       "    <tr>\n",
       "      <th>98653</th>\n",
       "      <td>fff8286f77788ab8b55b2e5747fa7dd8</td>\n",
       "      <td>24.99</td>\n",
       "      <td>1</td>\n",
       "      <td>1</td>\n",
       "    </tr>\n",
       "    <tr>\n",
       "      <th>98654</th>\n",
       "      <td>fff8287bbae429a99bb7e8c21d151c41</td>\n",
       "      <td>180.00</td>\n",
       "      <td>2</td>\n",
       "      <td>3</td>\n",
       "    </tr>\n",
       "    <tr>\n",
       "      <th>98655</th>\n",
       "      <td>fff90cdcb3b2e6cfb397d05d562fd3fe</td>\n",
       "      <td>89.90</td>\n",
       "      <td>1</td>\n",
       "      <td>1</td>\n",
       "    </tr>\n",
       "    <tr>\n",
       "      <th>98656</th>\n",
       "      <td>fffa82886406ccf10c7b4e35c4ff2788</td>\n",
       "      <td>229.90</td>\n",
       "      <td>1</td>\n",
       "      <td>1</td>\n",
       "    </tr>\n",
       "    <tr>\n",
       "      <th>98657</th>\n",
       "      <td>fffb0b1a50e65c449020434fa835e078</td>\n",
       "      <td>4.90</td>\n",
       "      <td>1</td>\n",
       "      <td>1</td>\n",
       "    </tr>\n",
       "    <tr>\n",
       "      <th>98658</th>\n",
       "      <td>fffb2ef8874127f75b52b643880fd7e0</td>\n",
       "      <td>17.90</td>\n",
       "      <td>1</td>\n",
       "      <td>1</td>\n",
       "    </tr>\n",
       "    <tr>\n",
       "      <th>98659</th>\n",
       "      <td>fffb9224b6fc7c43ebb0904318b10b5f</td>\n",
       "      <td>55.00</td>\n",
       "      <td>4</td>\n",
       "      <td>10</td>\n",
       "    </tr>\n",
       "    <tr>\n",
       "      <th>98660</th>\n",
       "      <td>fffbee3b5462987e66fb49b1c5411df2</td>\n",
       "      <td>119.85</td>\n",
       "      <td>1</td>\n",
       "      <td>1</td>\n",
       "    </tr>\n",
       "    <tr>\n",
       "      <th>98661</th>\n",
       "      <td>fffc94f6ce00a00581880bf54a75a037</td>\n",
       "      <td>299.99</td>\n",
       "      <td>1</td>\n",
       "      <td>1</td>\n",
       "    </tr>\n",
       "    <tr>\n",
       "      <th>98662</th>\n",
       "      <td>fffcd46ef2263f404302a634eb57f7eb</td>\n",
       "      <td>350.00</td>\n",
       "      <td>1</td>\n",
       "      <td>1</td>\n",
       "    </tr>\n",
       "    <tr>\n",
       "      <th>98663</th>\n",
       "      <td>fffce4705a9662cd70adb13d4a31832d</td>\n",
       "      <td>99.90</td>\n",
       "      <td>1</td>\n",
       "      <td>1</td>\n",
       "    </tr>\n",
       "    <tr>\n",
       "      <th>98664</th>\n",
       "      <td>fffe18544ffabc95dfada21779c9644f</td>\n",
       "      <td>55.99</td>\n",
       "      <td>1</td>\n",
       "      <td>1</td>\n",
       "    </tr>\n",
       "    <tr>\n",
       "      <th>98665</th>\n",
       "      <td>fffe41c64501cc87c801fd61db3f6244</td>\n",
       "      <td>43.00</td>\n",
       "      <td>1</td>\n",
       "      <td>1</td>\n",
       "    </tr>\n",
       "  </tbody>\n",
       "</table>\n",
       "<p>98666 rows × 4 columns</p>\n",
       "</div>"
      ],
      "text/plain": [
       "                               order_id   price  product_id  order_item_id\n",
       "0      00010242fe8c5a6d1ba2dd792cb16214   58.90           1              1\n",
       "1      00018f77f2f0320c557190d7a144bdd3  239.90           1              1\n",
       "2      000229ec398224ef6ca0657da4fc703e  199.00           1              1\n",
       "3      00024acbcdf0a6daa1e931b038114c75   12.99           1              1\n",
       "4      00042b26cf59d7ce69dfabb4e55b4fd9  199.90           1              1\n",
       "5      00048cc3ae777c65dbb7d2a0634bc1ea   21.90           1              1\n",
       "6      00054e8431b9d7675808bcb819fb4a32   19.90           1              1\n",
       "7      000576fe39319847cbb9d288c5617fa6  810.00           1              1\n",
       "8      0005a1a1728c9d785b8e2b08b904576c  145.95           1              1\n",
       "9      0005f50442cb953dcd1d21e1fb923495   53.99           1              1\n",
       "10     00061f2a7bc09da83e415a52dc8a4af1   59.99           1              1\n",
       "11     00063b381e2406b52ad429470734ebd5   45.00           1              1\n",
       "12     0006ec9db01a64e59a68b2c340bf65a7   74.00           1              1\n",
       "13     0008288aa423d2a3f00fcb17cd7d8719   49.90           2              3\n",
       "14     0009792311464db532ff765bf7b182ae   99.90           1              1\n",
       "15     0009c9a17f916a706d71784483a5d643  639.00           1              1\n",
       "16     000aed2e25dbad2f9ddb70584c5a2ded  144.00           1              1\n",
       "17     000c3e6612759851cc3cbb4b83257986   99.00           1              1\n",
       "18     000e562887b1f2006d75e0be9558292e   25.00           1              1\n",
       "19     000e63d38ae8c00bbcb5a30573b99628   47.90           1              1\n",
       "20     000e906b789b55f64edcb1f84030f90d   21.99           1              1\n",
       "21     000f25f4d72195062c040b12dce9a18a  119.99           1              1\n",
       "22     001021efaa8636c29475e7734483457d   49.00           1              1\n",
       "23     0010b2e5201cc5f1ae7e9c6cc8f5bd00   48.90           1              1\n",
       "24     00119ff934e539cf26f92b9ef0cdfed8  219.90           1              1\n",
       "25     0011d82c4b53e22e84023405fb467e57  289.00           1              1\n",
       "26     00125cb692d04887809806618a2a145f  109.90           1              1\n",
       "27     00130c0eee84a3d909e75bc08c5c3ca1   27.90           1              1\n",
       "28     0013503b13da1eac686219390b7d641b  119.90           1              1\n",
       "29     00137e170939bba5a3134e2386413108  397.00           1              1\n",
       "...                                 ...     ...         ...            ...\n",
       "98636  ffec1a6d35149778ec575d5048d44db8   47.65           1              1\n",
       "98637  ffecd5a79a0084f6a592288c67e3c298   21.90           3              6\n",
       "98638  ffed7e90414c1477a6b92554661d465f  149.90           1              1\n",
       "98639  ffee31fb4b5e35c9123608015637c495   99.00           1              1\n",
       "98640  ffeeb911d070bea3dd20bd5fd01da5e8   79.50           1              1\n",
       "98641  ffef98cd5ecdc992fefbd967549520dd  139.90           1              1\n",
       "98642  ffef9e1de5dd07b397b373f9bb72cccf   94.00           1              1\n",
       "98643  ffefb169ddf34cecc0622a6d3cc387f8  129.99           1              1\n",
       "98644  fff0db5573c78c1cb5a2b68a2bbd8d4a   69.95           1              1\n",
       "98645  fff1e3e76b816bfe8ef16678cc53c643   65.99           1              1\n",
       "98646  fff2cdc825f9fc0ba3c04227cfa02303   24.99           1              1\n",
       "98647  fff2e9e3aa8644e19710216b4ef53ab2   69.90           1              1\n",
       "98648  fff3983dfa3c5a0d752d8d17baa406a0   66.39           1              1\n",
       "98649  fff60e5408a9dd1e92ee30023052af30  129.90           1              1\n",
       "98650  fff6889749958e42b47a7977a4cf0ea0   92.00           1              1\n",
       "98651  fff6b8ca971f8e3ec822e99d0f2d3d21  199.00           1              1\n",
       "98652  fff7c4452f050315db1b3f24d9df5fcd  736.00           1              1\n",
       "98653  fff8286f77788ab8b55b2e5747fa7dd8   24.99           1              1\n",
       "98654  fff8287bbae429a99bb7e8c21d151c41  180.00           2              3\n",
       "98655  fff90cdcb3b2e6cfb397d05d562fd3fe   89.90           1              1\n",
       "98656  fffa82886406ccf10c7b4e35c4ff2788  229.90           1              1\n",
       "98657  fffb0b1a50e65c449020434fa835e078    4.90           1              1\n",
       "98658  fffb2ef8874127f75b52b643880fd7e0   17.90           1              1\n",
       "98659  fffb9224b6fc7c43ebb0904318b10b5f   55.00           4             10\n",
       "98660  fffbee3b5462987e66fb49b1c5411df2  119.85           1              1\n",
       "98661  fffc94f6ce00a00581880bf54a75a037  299.99           1              1\n",
       "98662  fffcd46ef2263f404302a634eb57f7eb  350.00           1              1\n",
       "98663  fffce4705a9662cd70adb13d4a31832d   99.90           1              1\n",
       "98664  fffe18544ffabc95dfada21779c9644f   55.99           1              1\n",
       "98665  fffe41c64501cc87c801fd61db3f6244   43.00           1              1\n",
       "\n",
       "[98666 rows x 4 columns]"
      ]
     },
     "execution_count": 277,
     "metadata": {},
     "output_type": "execute_result"
    }
   ],
   "source": [
    "df4_agg"
   ]
  },
  {
   "cell_type": "code",
   "execution_count": 278,
   "metadata": {
    "collapsed": false
   },
   "outputs": [
    {
     "data": {
      "text/plain": [
       "(98666, 4)"
      ]
     },
     "execution_count": 278,
     "metadata": {},
     "output_type": "execute_result"
    }
   ],
   "source": [
    "df4_agg.shape"
   ]
  },
  {
   "cell_type": "code",
   "execution_count": 279,
   "metadata": {
    "collapsed": false
   },
   "outputs": [
    {
     "data": {
      "text/plain": [
       "(99441, 12)"
      ]
     },
     "execution_count": 279,
     "metadata": {},
     "output_type": "execute_result"
    }
   ],
   "source": [
    "df3.shape"
   ]
  },
  {
   "cell_type": "code",
   "execution_count": 307,
   "metadata": {
    "collapsed": false
   },
   "outputs": [
    {
     "data": {
      "text/plain": [
       "Index([u'customer_id', u'customer_unique_id', u'customer_zip_code_prefix',\n",
       "       u'customer_city', u'customer_state', u'order_id', u'order_status',\n",
       "       u'order_purchase_timestamp', u'order_approved_at',\n",
       "       u'order_delivered_carrier_date', u'order_delivered_customer_date',\n",
       "       u'order_estimated_delivery_date'],\n",
       "      dtype='object')"
      ]
     },
     "execution_count": 307,
     "metadata": {},
     "output_type": "execute_result"
    }
   ],
   "source": [
    "df3.columns"
   ]
  },
  {
   "cell_type": "code",
   "execution_count": 308,
   "metadata": {
    "collapsed": true
   },
   "outputs": [],
   "source": [
    "df31=df3[df3['order_status']=='delivered']"
   ]
  },
  {
   "cell_type": "code",
   "execution_count": 309,
   "metadata": {
    "collapsed": false
   },
   "outputs": [
    {
     "data": {
      "text/plain": [
       "(96478, 12)"
      ]
     },
     "execution_count": 309,
     "metadata": {},
     "output_type": "execute_result"
    }
   ],
   "source": [
    "df31.shape"
   ]
  },
  {
   "cell_type": "code",
   "execution_count": 280,
   "metadata": {
    "collapsed": true
   },
   "outputs": [],
   "source": [
    "df5=df3.merge(df4_agg,on='order_id')"
   ]
  },
  {
   "cell_type": "code",
   "execution_count": 281,
   "metadata": {
    "collapsed": false
   },
   "outputs": [
    {
     "ename": "AttributeError",
     "evalue": "'DataFrame' object has no attribute 'agg'",
     "output_type": "error",
     "traceback": [
      "\u001b[0;31m---------------------------------------------------------------------------\u001b[0m",
      "\u001b[0;31mAttributeError\u001b[0m                            Traceback (most recent call last)",
      "\u001b[0;32m<ipython-input-281-6ab3e00084ba>\u001b[0m in \u001b[0;36m<module>\u001b[0;34m()\u001b[0m\n\u001b[0;32m----> 1\u001b[0;31m \u001b[0mdf5_agg\u001b[0m\u001b[0;34m=\u001b[0m\u001b[0mdf5\u001b[0m\u001b[0;34m.\u001b[0m\u001b[0magg\u001b[0m\u001b[0;34m(\u001b[0m\u001b[0;34m)\u001b[0m\u001b[0;34m\u001b[0m\u001b[0m\n\u001b[0m",
      "\u001b[0;32m/Users/bukowskio/anaconda/lib/python2.7/site-packages/pandas/core/generic.pyc\u001b[0m in \u001b[0;36m__getattr__\u001b[0;34m(self, name)\u001b[0m\n\u001b[1;32m   2742\u001b[0m             \u001b[0;32mif\u001b[0m \u001b[0mname\u001b[0m \u001b[0;32min\u001b[0m \u001b[0mself\u001b[0m\u001b[0;34m.\u001b[0m\u001b[0m_info_axis\u001b[0m\u001b[0;34m:\u001b[0m\u001b[0;34m\u001b[0m\u001b[0m\n\u001b[1;32m   2743\u001b[0m                 \u001b[0;32mreturn\u001b[0m \u001b[0mself\u001b[0m\u001b[0;34m[\u001b[0m\u001b[0mname\u001b[0m\u001b[0;34m]\u001b[0m\u001b[0;34m\u001b[0m\u001b[0m\n\u001b[0;32m-> 2744\u001b[0;31m             \u001b[0;32mreturn\u001b[0m \u001b[0mobject\u001b[0m\u001b[0;34m.\u001b[0m\u001b[0m__getattribute__\u001b[0m\u001b[0;34m(\u001b[0m\u001b[0mself\u001b[0m\u001b[0;34m,\u001b[0m \u001b[0mname\u001b[0m\u001b[0;34m)\u001b[0m\u001b[0;34m\u001b[0m\u001b[0m\n\u001b[0m\u001b[1;32m   2745\u001b[0m \u001b[0;34m\u001b[0m\u001b[0m\n\u001b[1;32m   2746\u001b[0m     \u001b[0;32mdef\u001b[0m \u001b[0m__setattr__\u001b[0m\u001b[0;34m(\u001b[0m\u001b[0mself\u001b[0m\u001b[0;34m,\u001b[0m \u001b[0mname\u001b[0m\u001b[0;34m,\u001b[0m \u001b[0mvalue\u001b[0m\u001b[0;34m)\u001b[0m\u001b[0;34m:\u001b[0m\u001b[0;34m\u001b[0m\u001b[0m\n",
      "\u001b[0;31mAttributeError\u001b[0m: 'DataFrame' object has no attribute 'agg'"
     ]
    }
   ],
   "source": [
    "df5_agg=df5.agg()"
   ]
  },
  {
   "cell_type": "code",
   "execution_count": null,
   "metadata": {
    "collapsed": false
   },
   "outputs": [],
   "source": [
    "df3['order_status'].unique()"
   ]
  },
  {
   "cell_type": "code",
   "execution_count": null,
   "metadata": {
    "collapsed": false
   },
   "outputs": [],
   "source": [
    "df3.columns"
   ]
  },
  {
   "cell_type": "code",
   "execution_count": null,
   "metadata": {
    "collapsed": false
   },
   "outputs": [],
   "source": [
    "df3['order_purchase_timestamp'][0]-datetime.datetime.utcnow()"
   ]
  },
  {
   "cell_type": "code",
   "execution_count": null,
   "metadata": {
    "collapsed": false
   },
   "outputs": [],
   "source": [
    "df3['order_date2']=df3['order_purchase_timestamp'].map(lambda x: datetime.datetime.strptime(x[0:10],\"%Y-%m-%d\"))"
   ]
  },
  {
   "cell_type": "code",
   "execution_count": null,
   "metadata": {
    "collapsed": false
   },
   "outputs": [],
   "source": [
    "df3['retency']=df3['order_date2'].map(lambda x: (datetime.datetime.utcnow()-x).days)"
   ]
  },
  {
   "cell_type": "code",
   "execution_count": null,
   "metadata": {
    "collapsed": false
   },
   "outputs": [],
   "source": [
    "df3['retency'].hist()\n",
    "plt.show()"
   ]
  },
  {
   "cell_type": "code",
   "execution_count": null,
   "metadata": {
    "collapsed": false
   },
   "outputs": [],
   "source": [
    "datetime.datetime.strptime(df3['order_purchase_timestamp'][0][0:10], \"%Y-%m-%d\")"
   ]
  },
  {
   "cell_type": "code",
   "execution_count": null,
   "metadata": {
    "collapsed": true
   },
   "outputs": [],
   "source": []
  },
  {
   "cell_type": "code",
   "execution_count": null,
   "metadata": {
    "collapsed": true
   },
   "outputs": [],
   "source": [
    "df3_agg1=pd.pivot_table(df3,index='customer_unique_id',values=['order_id'],aggfunc=len)"
   ]
  },
  {
   "cell_type": "code",
   "execution_count": null,
   "metadata": {
    "collapsed": false
   },
   "outputs": [],
   "source": [
    "df3_agg1.shape"
   ]
  },
  {
   "cell_type": "code",
   "execution_count": null,
   "metadata": {
    "collapsed": false
   },
   "outputs": [],
   "source": [
    "df3_agg1.sort_values(by='order_id',ascending=False)"
   ]
  },
  {
   "cell_type": "code",
   "execution_count": null,
   "metadata": {
    "collapsed": true
   },
   "outputs": [],
   "source": [
    "df3_agg2=pd.pivot_table(df3,index='customer_unique_id',values=['retency'],aggfunc=min)"
   ]
  },
  {
   "cell_type": "code",
   "execution_count": null,
   "metadata": {
    "collapsed": false
   },
   "outputs": [],
   "source": [
    "df3_agg2.hist()\n",
    "plt.show()"
   ]
  },
  {
   "cell_type": "code",
   "execution_count": null,
   "metadata": {
    "collapsed": false
   },
   "outputs": [],
   "source": [
    "df3_agg2=pd.pivot_table(df3,index='customer_unique_id',values=['total_price'],aggfunc=np.mean)"
   ]
  }
 ],
 "metadata": {
  "kernelspec": {
   "display_name": "Python 2",
   "language": "python",
   "name": "python2"
  },
  "language_info": {
   "codemirror_mode": {
    "name": "ipython",
    "version": 2
   },
   "file_extension": ".py",
   "mimetype": "text/x-python",
   "name": "python",
   "nbconvert_exporter": "python",
   "pygments_lexer": "ipython2",
   "version": "2.7.13"
  }
 },
 "nbformat": 4,
 "nbformat_minor": 2
}
